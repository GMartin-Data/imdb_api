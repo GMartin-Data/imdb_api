{
 "cells": [
  {
   "cell_type": "code",
   "execution_count": 1,
   "id": "71246b21-b628-4130-b517-03a1e06dc18c",
   "metadata": {},
   "outputs": [],
   "source": [
    "%load_ext sql"
   ]
  },
  {
   "cell_type": "code",
   "execution_count": 2,
   "id": "e0fa8b25-4aca-4138-961b-5039fad5b5db",
   "metadata": {},
   "outputs": [
    {
     "name": "stdout",
     "output_type": "stream",
     "text": [
      "Done.\n"
     ]
    },
    {
     "data": {
      "text/html": [
       "<table>\n",
       "    <thead>\n",
       "        <tr>\n",
       "            <th>COUNT(*)</th>\n",
       "        </tr>\n",
       "    </thead>\n",
       "    <tbody>\n",
       "        <tr>\n",
       "            <td>500</td>\n",
       "        </tr>\n",
       "    </tbody>\n",
       "</table>"
      ],
      "text/plain": [
       "[(500,)]"
      ]
     },
     "execution_count": 2,
     "metadata": {},
     "output_type": "execute_result"
    }
   ],
   "source": [
    "%%sql sqlite:///imdb.db\n",
    "SELECT COUNT(*)\n",
    "  FROM media;"
   ]
  },
  {
   "cell_type": "markdown",
   "id": "4535b4ef-5b93-43d5-9f16-ecfd13a552a1",
   "metadata": {},
   "source": [
    "# Film le plus long"
   ]
  },
  {
   "cell_type": "code",
   "execution_count": 3,
   "id": "c4598be4-8aa0-4c57-b323-ee59d9668f71",
   "metadata": {},
   "outputs": [
    {
     "name": "stdout",
     "output_type": "stream",
     "text": [
      "Done.\n"
     ]
    },
    {
     "data": {
      "text/html": [
       "<table>\n",
       "    <thead>\n",
       "        <tr>\n",
       "            <th>id</th>\n",
       "            <th>kind</th>\n",
       "            <th>title</th>\n",
       "            <th>original_title</th>\n",
       "            <th>genres</th>\n",
       "            <th>duration_s</th>\n",
       "            <th>release_year</th>\n",
       "            <th>end_year</th>\n",
       "            <th>rating</th>\n",
       "            <th>vote_count</th>\n",
       "            <th>metacritic_score</th>\n",
       "            <th>audience</th>\n",
       "            <th>countries</th>\n",
       "            <th>budget</th>\n",
       "            <th>worldwide_gross</th>\n",
       "            <th>casting</th>\n",
       "            <th>synopsis</th>\n",
       "            <th>poster_link</th>\n",
       "        </tr>\n",
       "    </thead>\n",
       "    <tbody>\n",
       "        <tr>\n",
       "            <td>tt13452446</td>\n",
       "            <td>Movie</td>\n",
       "            <td>Damsel</td>\n",
       "            <td>Damsel</td>\n",
       "            <td>Action, Adventure, Fantasy</td>\n",
       "            <td>6600</td>\n",
       "            <td>2024</td>\n",
       "            <td>None</td>\n",
       "            <td>6.1</td>\n",
       "            <td>47971</td>\n",
       "            <td>46</td>\n",
       "            <td>PG-13</td>\n",
       "            <td>United States</td>\n",
       "            <td>70000000</td>\n",
       "            <td>70000000</td>\n",
       "            <td>Millie Bobby Brown, Ray Winstone, Angela Bassett, Brooke Carter, Nick Robinson, Robin Wright, Milo Twomey, Nicole Joseph, Patrice Naiambana, Ulli Ackermann, Mens-Sana Tamakloe, Ezra Faroque Khan, Tasha Lim, Brogan Mcfarlane, Sonya Nisa, Esther Odumade, Margarita Ren, Eloise Shephard Taylor</td>\n",
       "            <td>A dutiful damsel agrees to marry a handsome prince, only to find the royal family has recruited her as a sacrifice to repay an ancient debt.</td>\n",
       "            <td>https://m.media-amazon.com/images/M/MV5BODRiMTA4NGMtOTQzZC00OWFjLWFmODctMjY2ZTcwYjI5NDMyXkEyXkFqcGdeQXVyMDc5ODIzMw@@._V1_.jpg</td>\n",
       "        </tr>\n",
       "    </tbody>\n",
       "</table>"
      ],
      "text/plain": [
       "[('tt13452446', 'Movie', 'Damsel', 'Damsel', 'Action, Adventure, Fantasy', 6600, 2024, None, 6.1, 47971, 46, 'PG-13', 'United States', 70000000, 70000000, 'Millie Bobby Brown, Ray Winstone, Angela Bassett, Brooke Carter, Nick Robinson, Robin Wright, Milo Twomey, Nicole Joseph, Patrice Naiambana, Ulli Ackermann, Mens-Sana Tamakloe, Ezra Faroque Khan, Tasha Lim, Brogan Mcfarlane, Sonya Nisa, Esther Odumade, Margarita Ren, Eloise Shephard Taylor', 'A dutiful damsel agrees to marry a handsome prince, only to find the royal family has recruited her as a sacrifice to repay an ancient debt.', 'https://m.media-amazon.com/images/M/MV5BODRiMTA4NGMtOTQzZC00OWFjLWFmODctMjY2ZTcwYjI5NDMyXkEyXkFqcGdeQXVyMDc5ODIzMw@@._V1_.jpg')]"
      ]
     },
     "execution_count": 3,
     "metadata": {},
     "output_type": "execute_result"
    }
   ],
   "source": [
    "%%sql sqlite:///imdb.db\n",
    "SELECT *\n",
    "  FROM media\n",
    " LIMIT 1;"
   ]
  },
  {
   "cell_type": "code",
   "execution_count": 4,
   "id": "6792dbb1-d8c9-4369-b80f-dc1fd83b8917",
   "metadata": {},
   "outputs": [
    {
     "name": "stdout",
     "output_type": "stream",
     "text": [
      "Done.\n"
     ]
    },
    {
     "data": {
      "text/html": [
       "<table>\n",
       "    <thead>\n",
       "        <tr>\n",
       "            <th>title</th>\n",
       "            <th>duration_s</th>\n",
       "        </tr>\n",
       "    </thead>\n",
       "    <tbody>\n",
       "        <tr>\n",
       "            <td>Gone with the Wind</td>\n",
       "            <td>14280</td>\n",
       "        </tr>\n",
       "    </tbody>\n",
       "</table>"
      ],
      "text/plain": [
       "[('Gone with the Wind', 14280)]"
      ]
     },
     "execution_count": 4,
     "metadata": {},
     "output_type": "execute_result"
    }
   ],
   "source": [
    "%%sql sqlite:///imdb.db\n",
    "SELECT title, duration_s\n",
    "  FROM media\n",
    " WHERE kind='Movie'\n",
    " ORDER BY duration_s DESC\n",
    " LIMIT 1;"
   ]
  },
  {
   "cell_type": "markdown",
   "id": "7def3a31-aa63-4109-94c6-f12ff5438a3b",
   "metadata": {},
   "source": [
    "# 5 Films les mieux notés"
   ]
  },
  {
   "cell_type": "code",
   "execution_count": 5,
   "id": "389c08d4-e3e9-4cfe-bea1-45c8cc090f10",
   "metadata": {},
   "outputs": [
    {
     "name": "stdout",
     "output_type": "stream",
     "text": [
      "Done.\n"
     ]
    },
    {
     "data": {
      "text/html": [
       "<table>\n",
       "    <thead>\n",
       "        <tr>\n",
       "            <th>title</th>\n",
       "            <th>rating</th>\n",
       "            <th>vote_count</th>\n",
       "        </tr>\n",
       "    </thead>\n",
       "    <tbody>\n",
       "        <tr>\n",
       "            <td>The Shawshank Redemption</td>\n",
       "            <td>9.3</td>\n",
       "            <td>2872739</td>\n",
       "        </tr>\n",
       "        <tr>\n",
       "            <td>The Godfather</td>\n",
       "            <td>9.2</td>\n",
       "            <td>2000949</td>\n",
       "        </tr>\n",
       "        <tr>\n",
       "            <td>The Godfather Part II</td>\n",
       "            <td>9.0</td>\n",
       "            <td>1357466</td>\n",
       "        </tr>\n",
       "        <tr>\n",
       "            <td>The Lord of the Rings: The Return of the King</td>\n",
       "            <td>9.0</td>\n",
       "            <td>1968380</td>\n",
       "        </tr>\n",
       "        <tr>\n",
       "            <td>Schindler&#x27;s List</td>\n",
       "            <td>9.0</td>\n",
       "            <td>1442959</td>\n",
       "        </tr>\n",
       "    </tbody>\n",
       "</table>"
      ],
      "text/plain": [
       "[('The Shawshank Redemption', 9.3, 2872739),\n",
       " ('The Godfather', 9.2, 2000949),\n",
       " ('The Godfather Part II', 9.0, 1357466),\n",
       " ('The Lord of the Rings: The Return of the King', 9.0, 1968380),\n",
       " (\"Schindler's List\", 9.0, 1442959)]"
      ]
     },
     "execution_count": 5,
     "metadata": {},
     "output_type": "execute_result"
    }
   ],
   "source": [
    "%%sql sqlite:///imdb.db\n",
    "SELECT title, rating, vote_count\n",
    "  FROM media\n",
    " WHERE kind='Movie'\n",
    " ORDER BY rating DESC\n",
    " LIMIT 5;"
   ]
  },
  {
   "cell_type": "markdown",
   "id": "dcf8884a-79d1-4049-9f2f-19f696066ec9",
   "metadata": {},
   "source": [
    "# Nombre de films incluant Morgan Freeman... Tom Cruise"
   ]
  },
  {
   "cell_type": "code",
   "execution_count": 6,
   "id": "10e7bd4b-7549-4a99-81c5-9c9109a3ca76",
   "metadata": {},
   "outputs": [
    {
     "name": "stdout",
     "output_type": "stream",
     "text": [
      "Done.\n"
     ]
    },
    {
     "data": {
      "text/html": [
       "<table>\n",
       "    <thead>\n",
       "        <tr>\n",
       "            <th>COUNT(title)</th>\n",
       "        </tr>\n",
       "    </thead>\n",
       "    <tbody>\n",
       "        <tr>\n",
       "            <td>5</td>\n",
       "        </tr>\n",
       "    </tbody>\n",
       "</table>"
      ],
      "text/plain": [
       "[(5,)]"
      ]
     },
     "execution_count": 6,
     "metadata": {},
     "output_type": "execute_result"
    }
   ],
   "source": [
    "%%sql sqlite:///imdb.db\n",
    "SELECT COUNT(title)\n",
    "  FROM media\n",
    " WHERE (kind='Movie') AND (casting LIKE '%Morgan Freeman%');"
   ]
  },
  {
   "cell_type": "code",
   "execution_count": 7,
   "id": "a681369d-5708-4e37-bad1-1bdd51ce063b",
   "metadata": {},
   "outputs": [
    {
     "name": "stdout",
     "output_type": "stream",
     "text": [
      "Done.\n"
     ]
    },
    {
     "data": {
      "text/html": [
       "<table>\n",
       "    <thead>\n",
       "        <tr>\n",
       "            <th>title</th>\n",
       "        </tr>\n",
       "    </thead>\n",
       "    <tbody>\n",
       "        <tr>\n",
       "            <td>Batman Begins</td>\n",
       "        </tr>\n",
       "        <tr>\n",
       "            <td>Se7en</td>\n",
       "        </tr>\n",
       "        <tr>\n",
       "            <td>The Dark Knight Rises</td>\n",
       "        </tr>\n",
       "        <tr>\n",
       "            <td>The Shawshank Redemption</td>\n",
       "        </tr>\n",
       "        <tr>\n",
       "            <td>The Dark Knight</td>\n",
       "        </tr>\n",
       "    </tbody>\n",
       "</table>"
      ],
      "text/plain": [
       "[('Batman Begins',),\n",
       " ('Se7en',),\n",
       " ('The Dark Knight Rises',),\n",
       " ('The Shawshank Redemption',),\n",
       " ('The Dark Knight',)]"
      ]
     },
     "execution_count": 7,
     "metadata": {},
     "output_type": "execute_result"
    }
   ],
   "source": [
    "%%sql sqlite:///imdb.db\n",
    "SELECT title\n",
    "  FROM media\n",
    " WHERE (kind='Movie') AND (casting LIKE '%Morgan Freeman%');"
   ]
  },
  {
   "cell_type": "code",
   "execution_count": 8,
   "id": "6574c11d-ef97-4684-b28d-6ad6d28bea9d",
   "metadata": {},
   "outputs": [
    {
     "name": "stdout",
     "output_type": "stream",
     "text": [
      "Done.\n"
     ]
    },
    {
     "data": {
      "text/html": [
       "<table>\n",
       "    <thead>\n",
       "        <tr>\n",
       "            <th>COUNT(title)</th>\n",
       "        </tr>\n",
       "    </thead>\n",
       "    <tbody>\n",
       "        <tr>\n",
       "            <td>2</td>\n",
       "        </tr>\n",
       "    </tbody>\n",
       "</table>"
      ],
      "text/plain": [
       "[(2,)]"
      ]
     },
     "execution_count": 8,
     "metadata": {},
     "output_type": "execute_result"
    }
   ],
   "source": [
    "%%sql sqlite:///imdb.db\n",
    "SELECT COUNT(title)\n",
    "  FROM media\n",
    " WHERE (kind='Movie') AND (casting LIKE '%Tom Cruise%');"
   ]
  },
  {
   "cell_type": "code",
   "execution_count": 9,
   "id": "44c5ea32-0711-411f-8c3f-fa181387ecf7",
   "metadata": {},
   "outputs": [
    {
     "name": "stdout",
     "output_type": "stream",
     "text": [
      "Done.\n"
     ]
    },
    {
     "data": {
      "text/html": [
       "<table>\n",
       "    <thead>\n",
       "        <tr>\n",
       "            <th>title</th>\n",
       "        </tr>\n",
       "    </thead>\n",
       "    <tbody>\n",
       "        <tr>\n",
       "            <td>Top Gun: Maverick</td>\n",
       "        </tr>\n",
       "        <tr>\n",
       "            <td>Mission: Impossible - Dead Reckoning Part One</td>\n",
       "        </tr>\n",
       "    </tbody>\n",
       "</table>"
      ],
      "text/plain": [
       "[('Top Gun: Maverick',), ('Mission: Impossible - Dead Reckoning Part One',)]"
      ]
     },
     "execution_count": 9,
     "metadata": {},
     "output_type": "execute_result"
    }
   ],
   "source": [
    "%%sql sqlite:///imdb.db\n",
    "SELECT title\n",
    "  FROM media\n",
    " WHERE (kind='Movie') AND (casting LIKE '%Tom Cruise%');"
   ]
  },
  {
   "cell_type": "markdown",
   "id": "539bad1b-e403-474b-a7fc-6b84e927724a",
   "metadata": {},
   "source": [
    "# Quels sont les 3 meilleurs films d'horreur? Dramatique? Comique?"
   ]
  },
  {
   "cell_type": "markdown",
   "id": "45895e0e-8a39-449a-bf63-4d2fcc408bc7",
   "metadata": {},
   "source": [
    "## Horreur"
   ]
  },
  {
   "cell_type": "code",
   "execution_count": 12,
   "id": "b36296c9-3a90-49a6-8be8-b2b24dd7079d",
   "metadata": {},
   "outputs": [
    {
     "name": "stdout",
     "output_type": "stream",
     "text": [
      "Done.\n"
     ]
    },
    {
     "data": {
      "text/html": [
       "<table>\n",
       "    <thead>\n",
       "        <tr>\n",
       "            <th>title</th>\n",
       "        </tr>\n",
       "    </thead>\n",
       "    <tbody>\n",
       "        <tr>\n",
       "            <td>Alien</td>\n",
       "        </tr>\n",
       "        <tr>\n",
       "            <td>Bramayugam</td>\n",
       "        </tr>\n",
       "        <tr>\n",
       "            <td>Shaitaan</td>\n",
       "        </tr>\n",
       "    </tbody>\n",
       "</table>"
      ],
      "text/plain": [
       "[('Alien',), ('Bramayugam',), ('Shaitaan',)]"
      ]
     },
     "execution_count": 12,
     "metadata": {},
     "output_type": "execute_result"
    }
   ],
   "source": [
    "%%sql sqlite:///imdb.db\n",
    "SELECT title\n",
    "  FROM media\n",
    " WHERE kind='Movie' AND genres LIKE '%Horror%'\n",
    " ORDER BY rating DESC\n",
    " LIMIT 3;"
   ]
  },
  {
   "cell_type": "markdown",
   "id": "844b99bf-eea4-4c7c-9eef-91f19e1b03da",
   "metadata": {},
   "source": [
    "## Dramatique"
   ]
  },
  {
   "cell_type": "code",
   "execution_count": 13,
   "id": "f570e5bd-5e98-4f02-9052-33027c3c9c8f",
   "metadata": {},
   "outputs": [
    {
     "name": "stdout",
     "output_type": "stream",
     "text": [
      "Done.\n"
     ]
    },
    {
     "data": {
      "text/html": [
       "<table>\n",
       "    <thead>\n",
       "        <tr>\n",
       "            <th>title</th>\n",
       "        </tr>\n",
       "    </thead>\n",
       "    <tbody>\n",
       "        <tr>\n",
       "            <td>The Shawshank Redemption</td>\n",
       "        </tr>\n",
       "        <tr>\n",
       "            <td>The Godfather</td>\n",
       "        </tr>\n",
       "        <tr>\n",
       "            <td>The Godfather Part II</td>\n",
       "        </tr>\n",
       "    </tbody>\n",
       "</table>"
      ],
      "text/plain": [
       "[('The Shawshank Redemption',), ('The Godfather',), ('The Godfather Part II',)]"
      ]
     },
     "execution_count": 13,
     "metadata": {},
     "output_type": "execute_result"
    }
   ],
   "source": [
    "%%sql sqlite:///imdb.db\n",
    "SELECT title\n",
    "  FROM media\n",
    " WHERE kind='Movie' AND genres LIKE '%Drama%'\n",
    " ORDER BY rating DESC\n",
    " LIMIT 3;"
   ]
  },
  {
   "cell_type": "markdown",
   "id": "36c12580-7798-4ecf-8b7b-7876a39511a3",
   "metadata": {},
   "source": [
    "## Comique"
   ]
  },
  {
   "cell_type": "code",
   "execution_count": 14,
   "id": "eab5cdd6-f059-41f3-8d4c-53dad238768b",
   "metadata": {},
   "outputs": [
    {
     "name": "stdout",
     "output_type": "stream",
     "text": [
      "Done.\n"
     ]
    },
    {
     "data": {
      "text/html": [
       "<table>\n",
       "    <thead>\n",
       "        <tr>\n",
       "            <th>title</th>\n",
       "        </tr>\n",
       "    </thead>\n",
       "    <tbody>\n",
       "        <tr>\n",
       "            <td>Snatch</td>\n",
       "        </tr>\n",
       "        <tr>\n",
       "            <td>Green Book</td>\n",
       "        </tr>\n",
       "        <tr>\n",
       "            <td>The Wolf of Wall Street</td>\n",
       "        </tr>\n",
       "    </tbody>\n",
       "</table>"
      ],
      "text/plain": [
       "[('Snatch',), ('Green Book',), ('The Wolf of Wall Street',)]"
      ]
     },
     "execution_count": 14,
     "metadata": {},
     "output_type": "execute_result"
    }
   ],
   "source": [
    "%%sql sqlite:///imdb.db\n",
    "SELECT title\n",
    "  FROM media\n",
    " WHERE kind='Movie' AND genres LIKE '%Comedy%'\n",
    " ORDER BY rating DESC\n",
    " LIMIT 3;"
   ]
  },
  {
   "cell_type": "markdown",
   "id": "09d142a8-f94d-4b79-a750-fc0720f0e7bf",
   "metadata": {},
   "source": [
    "## Parmi les 100 films les mieux notés, quel pourcentage sont américains? Français?"
   ]
  },
  {
   "cell_type": "code",
   "execution_count": 40,
   "id": "81a03320-b059-4f4f-beb6-4e6364e6054e",
   "metadata": {},
   "outputs": [
    {
     "name": "stdout",
     "output_type": "stream",
     "text": [
      "Done.\n"
     ]
    },
    {
     "data": {
      "text/html": [
       "<table>\n",
       "    <thead>\n",
       "        <tr>\n",
       "            <th>US_percentage</th>\n",
       "        </tr>\n",
       "    </thead>\n",
       "    <tbody>\n",
       "        <tr>\n",
       "            <td>1.0</td>\n",
       "        </tr>\n",
       "    </tbody>\n",
       "</table>"
      ],
      "text/plain": [
       "[(1.0,)]"
      ]
     },
     "execution_count": 40,
     "metadata": {},
     "output_type": "execute_result"
    }
   ],
   "source": [
    "%%sql sqlite:///imdb.db\n",
    "SELECT COUNT(*) / 100.0 AS US_percentage\n",
    "FROM (\n",
    "    SELECT id, countries\n",
    "    FROM media\n",
    "    WHERE kind='Movie'AND countries LIKE '%United States%'\n",
    "    ORDER BY rating\n",
    "    LIMIT 100\n",
    ") AS subquery;"
   ]
  },
  {
   "cell_type": "code",
   "execution_count": 35,
   "id": "670a56e3-c9ea-4fb0-8a46-7f8dcfec8a36",
   "metadata": {},
   "outputs": [
    {
     "name": "stdout",
     "output_type": "stream",
     "text": [
      "Done.\n"
     ]
    },
    {
     "data": {
      "text/html": [
       "<table>\n",
       "    <thead>\n",
       "        <tr>\n",
       "            <th>id</th>\n",
       "            <th>countries</th>\n",
       "        </tr>\n",
       "    </thead>\n",
       "    <tbody>\n",
       "        <tr>\n",
       "            <td>tt6263850</td>\n",
       "            <td>United States, China</td>\n",
       "        </tr>\n",
       "        <tr>\n",
       "            <td>tt5177120</td>\n",
       "            <td>United States, United Kingdom, Turkey</td>\n",
       "        </tr>\n",
       "        <tr>\n",
       "            <td>tt11315808</td>\n",
       "            <td>United States</td>\n",
       "        </tr>\n",
       "        <tr>\n",
       "            <td>tt30144839</td>\n",
       "            <td>United States</td>\n",
       "        </tr>\n",
       "        <tr>\n",
       "            <td>tt31378509</td>\n",
       "            <td>United States</td>\n",
       "        </tr>\n",
       "        <tr>\n",
       "            <td>tt14824600</td>\n",
       "            <td>United States, Japan, United Kingdom</td>\n",
       "        </tr>\n",
       "        <tr>\n",
       "            <td>tt11389872</td>\n",
       "            <td>United States</td>\n",
       "        </tr>\n",
       "        <tr>\n",
       "            <td>tt9218128</td>\n",
       "            <td>United Kingdom, United States</td>\n",
       "        </tr>\n",
       "        <tr>\n",
       "            <td>tt4978420</td>\n",
       "            <td>United States</td>\n",
       "        </tr>\n",
       "        <tr>\n",
       "            <td>tt1262426</td>\n",
       "            <td>United States</td>\n",
       "        </tr>\n",
       "        <tr>\n",
       "            <td>tt2049403</td>\n",
       "            <td>United States</td>\n",
       "        </tr>\n",
       "        <tr>\n",
       "            <td>tt16426418</td>\n",
       "            <td>United States</td>\n",
       "        </tr>\n",
       "        <tr>\n",
       "            <td>tt22022452</td>\n",
       "            <td>United States, Japan</td>\n",
       "        </tr>\n",
       "        <tr>\n",
       "            <td>tt5672290</td>\n",
       "            <td>United States, Italy, United Kingdom</td>\n",
       "        </tr>\n",
       "        <tr>\n",
       "            <td>tt14856980</td>\n",
       "            <td>United States</td>\n",
       "        </tr>\n",
       "        <tr>\n",
       "            <td>tt1684562</td>\n",
       "            <td>United States</td>\n",
       "        </tr>\n",
       "        <tr>\n",
       "            <td>tt14539740</td>\n",
       "            <td>United States</td>\n",
       "        </tr>\n",
       "        <tr>\n",
       "            <td>tt21235248</td>\n",
       "            <td>United States, Canada</td>\n",
       "        </tr>\n",
       "        <tr>\n",
       "            <td>tt1340094</td>\n",
       "            <td>United Kingdom, France, United States</td>\n",
       "        </tr>\n",
       "        <tr>\n",
       "            <td>tt3359350</td>\n",
       "            <td>United States</td>\n",
       "        </tr>\n",
       "        <tr>\n",
       "            <td>tt31122323</td>\n",
       "            <td>United States, India</td>\n",
       "        </tr>\n",
       "        <tr>\n",
       "            <td>tt30007864</td>\n",
       "            <td>United States, Denmark</td>\n",
       "        </tr>\n",
       "        <tr>\n",
       "            <td>tt11057302</td>\n",
       "            <td>United States, Canada, Mexico</td>\n",
       "        </tr>\n",
       "        <tr>\n",
       "            <td>tt0938283</td>\n",
       "            <td>United States</td>\n",
       "        </tr>\n",
       "        <tr>\n",
       "            <td>tt26861992</td>\n",
       "            <td>United States</td>\n",
       "        </tr>\n",
       "        <tr>\n",
       "            <td>tt2322441</td>\n",
       "            <td>United States</td>\n",
       "        </tr>\n",
       "        <tr>\n",
       "            <td>tt30215084</td>\n",
       "            <td>United States</td>\n",
       "        </tr>\n",
       "        <tr>\n",
       "            <td>tt16253418</td>\n",
       "            <td>United States</td>\n",
       "        </tr>\n",
       "        <tr>\n",
       "            <td>tt26658104</td>\n",
       "            <td>United States</td>\n",
       "        </tr>\n",
       "        <tr>\n",
       "            <td>tt1524515</td>\n",
       "            <td>United States</td>\n",
       "        </tr>\n",
       "        <tr>\n",
       "            <td>tt19364132</td>\n",
       "            <td>United States</td>\n",
       "        </tr>\n",
       "        <tr>\n",
       "            <td>tt0108162</td>\n",
       "            <td>United States</td>\n",
       "        </tr>\n",
       "        <tr>\n",
       "            <td>tt26943420</td>\n",
       "            <td>United States</td>\n",
       "        </tr>\n",
       "        <tr>\n",
       "            <td>tt13380324</td>\n",
       "            <td>United States</td>\n",
       "        </tr>\n",
       "        <tr>\n",
       "            <td>tt8310486</td>\n",
       "            <td>United States</td>\n",
       "        </tr>\n",
       "        <tr>\n",
       "            <td>tt6722802</td>\n",
       "            <td>Ireland, Spain, France, United States</td>\n",
       "        </tr>\n",
       "        <tr>\n",
       "            <td>tt21957774</td>\n",
       "            <td>Ireland, United States</td>\n",
       "        </tr>\n",
       "        <tr>\n",
       "            <td>tt4589218</td>\n",
       "            <td>United States</td>\n",
       "        </tr>\n",
       "        <tr>\n",
       "            <td>tt10676048</td>\n",
       "            <td>United States</td>\n",
       "        </tr>\n",
       "        <tr>\n",
       "            <td>tt11304740</td>\n",
       "            <td>United States</td>\n",
       "        </tr>\n",
       "        <tr>\n",
       "            <td>tt14998742</td>\n",
       "            <td>United States</td>\n",
       "        </tr>\n",
       "        <tr>\n",
       "            <td>tt9663764</td>\n",
       "            <td>United States, United Kingdom, Canada, Australia, Iceland</td>\n",
       "        </tr>\n",
       "        <tr>\n",
       "            <td>tt11097384</td>\n",
       "            <td>Czech Republic, United States</td>\n",
       "        </tr>\n",
       "        <tr>\n",
       "            <td>tt14764464</td>\n",
       "            <td>Canada, United States</td>\n",
       "        </tr>\n",
       "        <tr>\n",
       "            <td>tt19356262</td>\n",
       "            <td>United States, United Kingdom</td>\n",
       "        </tr>\n",
       "        <tr>\n",
       "            <td>tt23137390</td>\n",
       "            <td>Italy, United States</td>\n",
       "        </tr>\n",
       "        <tr>\n",
       "            <td>tt1959490</td>\n",
       "            <td>United States</td>\n",
       "        </tr>\n",
       "        <tr>\n",
       "            <td>tt27550567</td>\n",
       "            <td>United States</td>\n",
       "        </tr>\n",
       "        <tr>\n",
       "            <td>tt11762114</td>\n",
       "            <td>United States</td>\n",
       "        </tr>\n",
       "        <tr>\n",
       "            <td>tt15009428</td>\n",
       "            <td>United Kingdom, United States</td>\n",
       "        </tr>\n",
       "        <tr>\n",
       "            <td>tt8002382</td>\n",
       "            <td>United States</td>\n",
       "        </tr>\n",
       "        <tr>\n",
       "            <td>tt14362112</td>\n",
       "            <td>United States</td>\n",
       "        </tr>\n",
       "        <tr>\n",
       "            <td>tt0053559</td>\n",
       "            <td>United States</td>\n",
       "        </tr>\n",
       "        <tr>\n",
       "            <td>tt13452446</td>\n",
       "            <td>United States</td>\n",
       "        </tr>\n",
       "        <tr>\n",
       "            <td>tt2177771</td>\n",
       "            <td>Germany, United States</td>\n",
       "        </tr>\n",
       "        <tr>\n",
       "            <td>tt11235772</td>\n",
       "            <td>United States</td>\n",
       "        </tr>\n",
       "        <tr>\n",
       "            <td>tt21188080</td>\n",
       "            <td>United States</td>\n",
       "        </tr>\n",
       "        <tr>\n",
       "            <td>tt21830902</td>\n",
       "            <td>United States</td>\n",
       "        </tr>\n",
       "        <tr>\n",
       "            <td>tt9466114</td>\n",
       "            <td>United States</td>\n",
       "        </tr>\n",
       "        <tr>\n",
       "            <td>tt26047818</td>\n",
       "            <td>United States, Australia</td>\n",
       "        </tr>\n",
       "        <tr>\n",
       "            <td>tt7711170</td>\n",
       "            <td>United States</td>\n",
       "        </tr>\n",
       "        <tr>\n",
       "            <td>tt0116287</td>\n",
       "            <td>United States, Canada</td>\n",
       "        </tr>\n",
       "        <tr>\n",
       "            <td>tt1660648</td>\n",
       "            <td>United States</td>\n",
       "        </tr>\n",
       "        <tr>\n",
       "            <td>tt0087182</td>\n",
       "            <td>United States, Mexico</td>\n",
       "        </tr>\n",
       "        <tr>\n",
       "            <td>tt1448754</td>\n",
       "            <td>United States, Canada, Australia</td>\n",
       "        </tr>\n",
       "        <tr>\n",
       "            <td>tt0086927</td>\n",
       "            <td>United States</td>\n",
       "        </tr>\n",
       "        <tr>\n",
       "            <td>tt10731256</td>\n",
       "            <td>United States</td>\n",
       "        </tr>\n",
       "        <tr>\n",
       "            <td>tt15314262</td>\n",
       "            <td>United States, United Kingdom</td>\n",
       "        </tr>\n",
       "        <tr>\n",
       "            <td>tt15671028</td>\n",
       "            <td>United States</td>\n",
       "        </tr>\n",
       "        <tr>\n",
       "            <td>tt13287846</td>\n",
       "            <td>United States, United Kingdom</td>\n",
       "        </tr>\n",
       "        <tr>\n",
       "            <td>tt14230388</td>\n",
       "            <td>Germany, United States</td>\n",
       "        </tr>\n",
       "        <tr>\n",
       "            <td>tt1790809</td>\n",
       "            <td>United States, Australia, United Kingdom, Canada</td>\n",
       "        </tr>\n",
       "        <tr>\n",
       "            <td>tt1462764</td>\n",
       "            <td>United States</td>\n",
       "        </tr>\n",
       "        <tr>\n",
       "            <td>tt14160834</td>\n",
       "            <td>United States</td>\n",
       "        </tr>\n",
       "        <tr>\n",
       "            <td>tt13560574</td>\n",
       "            <td>United States, Canada</td>\n",
       "        </tr>\n",
       "        <tr>\n",
       "            <td>tt19864802</td>\n",
       "            <td>United States</td>\n",
       "        </tr>\n",
       "        <tr>\n",
       "            <td>tt3758542</td>\n",
       "            <td>United States, United Kingdom, Italy, China</td>\n",
       "        </tr>\n",
       "        <tr>\n",
       "            <td>tt12747748</td>\n",
       "            <td>United States</td>\n",
       "        </tr>\n",
       "        <tr>\n",
       "            <td>tt8521778</td>\n",
       "            <td>United States</td>\n",
       "        </tr>\n",
       "        <tr>\n",
       "            <td>tt5535276</td>\n",
       "            <td>United States</td>\n",
       "        </tr>\n",
       "        <tr>\n",
       "            <td>tt21692408</td>\n",
       "            <td>United States, China</td>\n",
       "        </tr>\n",
       "        <tr>\n",
       "            <td>tt22041854</td>\n",
       "            <td>Italy, United States</td>\n",
       "        </tr>\n",
       "        <tr>\n",
       "            <td>tt0367594</td>\n",
       "            <td>United States, United Kingdom</td>\n",
       "        </tr>\n",
       "        <tr>\n",
       "            <td>tt8105234</td>\n",
       "            <td>United States</td>\n",
       "        </tr>\n",
       "        <tr>\n",
       "            <td>tt0439572</td>\n",
       "            <td>United States, Canada, Australia, New Zealand</td>\n",
       "        </tr>\n",
       "        <tr>\n",
       "            <td>tt17527468</td>\n",
       "            <td>United States</td>\n",
       "        </tr>\n",
       "        <tr>\n",
       "            <td>tt6495056</td>\n",
       "            <td>United States</td>\n",
       "        </tr>\n",
       "        <tr>\n",
       "            <td>tt0098206</td>\n",
       "            <td>United States</td>\n",
       "        </tr>\n",
       "        <tr>\n",
       "            <td>tt17024450</td>\n",
       "            <td>United States, Italy</td>\n",
       "        </tr>\n",
       "        <tr>\n",
       "            <td>tt13274016</td>\n",
       "            <td>United States</td>\n",
       "        </tr>\n",
       "        <tr>\n",
       "            <td>tt10545296</td>\n",
       "            <td>United States, Canada</td>\n",
       "        </tr>\n",
       "        <tr>\n",
       "            <td>tt11858890</td>\n",
       "            <td>United States</td>\n",
       "        </tr>\n",
       "        <tr>\n",
       "            <td>tt13651794</td>\n",
       "            <td>United States</td>\n",
       "        </tr>\n",
       "        <tr>\n",
       "            <td>tt1661199</td>\n",
       "            <td>United Kingdom, United States, Denmark, Canada, Italy</td>\n",
       "        </tr>\n",
       "        <tr>\n",
       "            <td>tt1200263</td>\n",
       "            <td>United States</td>\n",
       "        </tr>\n",
       "        <tr>\n",
       "            <td>tt1517268</td>\n",
       "            <td>United States, United Kingdom</td>\n",
       "        </tr>\n",
       "        <tr>\n",
       "            <td>tt17351924</td>\n",
       "            <td>United Kingdom, United States</td>\n",
       "        </tr>\n",
       "        <tr>\n",
       "            <td>tt10720352</td>\n",
       "            <td>United States</td>\n",
       "        </tr>\n",
       "        <tr>\n",
       "            <td>tt15789038</td>\n",
       "            <td>United States</td>\n",
       "        </tr>\n",
       "        <tr>\n",
       "            <td>tt1856080</td>\n",
       "            <td>United States</td>\n",
       "        </tr>\n",
       "    </tbody>\n",
       "</table>"
      ],
      "text/plain": [
       "[('tt6263850', 'United States, China'),\n",
       " ('tt5177120', 'United States, United Kingdom, Turkey'),\n",
       " ('tt11315808', 'United States'),\n",
       " ('tt30144839', 'United States'),\n",
       " ('tt31378509', 'United States'),\n",
       " ('tt14824600', 'United States, Japan, United Kingdom'),\n",
       " ('tt11389872', 'United States'),\n",
       " ('tt9218128', 'United Kingdom, United States'),\n",
       " ('tt4978420', 'United States'),\n",
       " ('tt1262426', 'United States'),\n",
       " ('tt2049403', 'United States'),\n",
       " ('tt16426418', 'United States'),\n",
       " ('tt22022452', 'United States, Japan'),\n",
       " ('tt5672290', 'United States, Italy, United Kingdom'),\n",
       " ('tt14856980', 'United States'),\n",
       " ('tt1684562', 'United States'),\n",
       " ('tt14539740', 'United States'),\n",
       " ('tt21235248', 'United States, Canada'),\n",
       " ('tt1340094', 'United Kingdom, France, United States'),\n",
       " ('tt3359350', 'United States'),\n",
       " ('tt31122323', 'United States, India'),\n",
       " ('tt30007864', 'United States, Denmark'),\n",
       " ('tt11057302', 'United States, Canada, Mexico'),\n",
       " ('tt0938283', 'United States'),\n",
       " ('tt26861992', 'United States'),\n",
       " ('tt2322441', 'United States'),\n",
       " ('tt30215084', 'United States'),\n",
       " ('tt16253418', 'United States'),\n",
       " ('tt26658104', 'United States'),\n",
       " ('tt1524515', 'United States'),\n",
       " ('tt19364132', 'United States'),\n",
       " ('tt0108162', 'United States'),\n",
       " ('tt26943420', 'United States'),\n",
       " ('tt13380324', 'United States'),\n",
       " ('tt8310486', 'United States'),\n",
       " ('tt6722802', 'Ireland, Spain, France, United States'),\n",
       " ('tt21957774', 'Ireland, United States'),\n",
       " ('tt4589218', 'United States'),\n",
       " ('tt10676048', 'United States'),\n",
       " ('tt11304740', 'United States'),\n",
       " ('tt14998742', 'United States'),\n",
       " ('tt9663764', 'United States, United Kingdom, Canada, Australia, Iceland'),\n",
       " ('tt11097384', 'Czech Republic, United States'),\n",
       " ('tt14764464', 'Canada, United States'),\n",
       " ('tt19356262', 'United States, United Kingdom'),\n",
       " ('tt23137390', 'Italy, United States'),\n",
       " ('tt1959490', 'United States'),\n",
       " ('tt27550567', 'United States'),\n",
       " ('tt11762114', 'United States'),\n",
       " ('tt15009428', 'United Kingdom, United States'),\n",
       " ('tt8002382', 'United States'),\n",
       " ('tt14362112', 'United States'),\n",
       " ('tt0053559', 'United States'),\n",
       " ('tt13452446', 'United States'),\n",
       " ('tt2177771', 'Germany, United States'),\n",
       " ('tt11235772', 'United States'),\n",
       " ('tt21188080', 'United States'),\n",
       " ('tt21830902', 'United States'),\n",
       " ('tt9466114', 'United States'),\n",
       " ('tt26047818', 'United States, Australia'),\n",
       " ('tt7711170', 'United States'),\n",
       " ('tt0116287', 'United States, Canada'),\n",
       " ('tt1660648', 'United States'),\n",
       " ('tt0087182', 'United States, Mexico'),\n",
       " ('tt1448754', 'United States, Canada, Australia'),\n",
       " ('tt0086927', 'United States'),\n",
       " ('tt10731256', 'United States'),\n",
       " ('tt15314262', 'United States, United Kingdom'),\n",
       " ('tt15671028', 'United States'),\n",
       " ('tt13287846', 'United States, United Kingdom'),\n",
       " ('tt14230388', 'Germany, United States'),\n",
       " ('tt1790809', 'United States, Australia, United Kingdom, Canada'),\n",
       " ('tt1462764', 'United States'),\n",
       " ('tt14160834', 'United States'),\n",
       " ('tt13560574', 'United States, Canada'),\n",
       " ('tt19864802', 'United States'),\n",
       " ('tt3758542', 'United States, United Kingdom, Italy, China'),\n",
       " ('tt12747748', 'United States'),\n",
       " ('tt8521778', 'United States'),\n",
       " ('tt5535276', 'United States'),\n",
       " ('tt21692408', 'United States, China'),\n",
       " ('tt22041854', 'Italy, United States'),\n",
       " ('tt0367594', 'United States, United Kingdom'),\n",
       " ('tt8105234', 'United States'),\n",
       " ('tt0439572', 'United States, Canada, Australia, New Zealand'),\n",
       " ('tt17527468', 'United States'),\n",
       " ('tt6495056', 'United States'),\n",
       " ('tt0098206', 'United States'),\n",
       " ('tt17024450', 'United States, Italy'),\n",
       " ('tt13274016', 'United States'),\n",
       " ('tt10545296', 'United States, Canada'),\n",
       " ('tt11858890', 'United States'),\n",
       " ('tt13651794', 'United States'),\n",
       " ('tt1661199', 'United Kingdom, United States, Denmark, Canada, Italy'),\n",
       " ('tt1200263', 'United States'),\n",
       " ('tt1517268', 'United States, United Kingdom'),\n",
       " ('tt17351924', 'United Kingdom, United States'),\n",
       " ('tt10720352', 'United States'),\n",
       " ('tt15789038', 'United States'),\n",
       " ('tt1856080', 'United States')]"
      ]
     },
     "execution_count": 35,
     "metadata": {},
     "output_type": "execute_result"
    }
   ],
   "source": [
    "%%sql sqlite:///imdb.db\n",
    "SELECT id, countries\n",
    "  FROM media\n",
    " WHERE (kind='Movie') AND (countries LIKE '%United States%')\n",
    " ORDER BY rating\n",
    " LIMIT 100;"
   ]
  },
  {
   "cell_type": "code",
   "execution_count": 36,
   "id": "680fbbd6-bccb-420b-876e-f05752173e67",
   "metadata": {},
   "outputs": [
    {
     "name": "stdout",
     "output_type": "stream",
     "text": [
      "Done.\n"
     ]
    },
    {
     "data": {
      "text/html": [
       "<table>\n",
       "    <thead>\n",
       "        <tr>\n",
       "            <th>id</th>\n",
       "            <th>countries</th>\n",
       "        </tr>\n",
       "    </thead>\n",
       "    <tbody>\n",
       "        <tr>\n",
       "            <td>tt1340094</td>\n",
       "            <td>United Kingdom, France, United States</td>\n",
       "        </tr>\n",
       "        <tr>\n",
       "            <td>tt6722802</td>\n",
       "            <td>Ireland, Spain, France, United States</td>\n",
       "        </tr>\n",
       "        <tr>\n",
       "            <td>tt3774694</td>\n",
       "            <td>France, Belgium</td>\n",
       "        </tr>\n",
       "        <tr>\n",
       "            <td>tt17009348</td>\n",
       "            <td>France</td>\n",
       "        </tr>\n",
       "        <tr>\n",
       "            <td>tt20234774</td>\n",
       "            <td>United Kingdom, France</td>\n",
       "        </tr>\n",
       "        <tr>\n",
       "            <td>tt3464902</td>\n",
       "            <td>Ireland, United Kingdom, Greece, France, Netherlands, United States, Belgium</td>\n",
       "        </tr>\n",
       "        <tr>\n",
       "            <td>tt19760052</td>\n",
       "            <td>France, Belgium</td>\n",
       "        </tr>\n",
       "        <tr>\n",
       "            <td>tt5726616</td>\n",
       "            <td>Italy, France, United States, Brazil</td>\n",
       "        </tr>\n",
       "        <tr>\n",
       "            <td>tt5013056</td>\n",
       "            <td>United Kingdom, Netherlands, France, United States</td>\n",
       "        </tr>\n",
       "        <tr>\n",
       "            <td>tt17009710</td>\n",
       "            <td>France</td>\n",
       "        </tr>\n",
       "        <tr>\n",
       "            <td>tt6791350</td>\n",
       "            <td>United States, New Zealand, France, Canada</td>\n",
       "        </tr>\n",
       "        <tr>\n",
       "            <td>tt10366460</td>\n",
       "            <td>France, Canada, United States</td>\n",
       "        </tr>\n",
       "        <tr>\n",
       "            <td>tt1255953</td>\n",
       "            <td>Canada, France</td>\n",
       "        </tr>\n",
       "        <tr>\n",
       "            <td>tt0110413</td>\n",
       "            <td>France, United States</td>\n",
       "        </tr>\n",
       "    </tbody>\n",
       "</table>"
      ],
      "text/plain": [
       "[('tt1340094', 'United Kingdom, France, United States'),\n",
       " ('tt6722802', 'Ireland, Spain, France, United States'),\n",
       " ('tt3774694', 'France, Belgium'),\n",
       " ('tt17009348', 'France'),\n",
       " ('tt20234774', 'United Kingdom, France'),\n",
       " ('tt3464902', 'Ireland, United Kingdom, Greece, France, Netherlands, United States, Belgium'),\n",
       " ('tt19760052', 'France, Belgium'),\n",
       " ('tt5726616', 'Italy, France, United States, Brazil'),\n",
       " ('tt5013056', 'United Kingdom, Netherlands, France, United States'),\n",
       " ('tt17009710', 'France'),\n",
       " ('tt6791350', 'United States, New Zealand, France, Canada'),\n",
       " ('tt10366460', 'France, Canada, United States'),\n",
       " ('tt1255953', 'Canada, France'),\n",
       " ('tt0110413', 'France, United States')]"
      ]
     },
     "execution_count": 36,
     "metadata": {},
     "output_type": "execute_result"
    }
   ],
   "source": [
    "%%sql sqlite:///imdb.db\n",
    "SELECT id, countries\n",
    "  FROM media\n",
    " WHERE (kind='Movie') AND (countries LIKE '%France%')\n",
    " ORDER BY rating\n",
    " LIMIT 100;"
   ]
  },
  {
   "cell_type": "code",
   "execution_count": 41,
   "id": "fefc330c-f008-4c5d-babe-935e7775012f",
   "metadata": {},
   "outputs": [
    {
     "name": "stdout",
     "output_type": "stream",
     "text": [
      "Done.\n"
     ]
    },
    {
     "data": {
      "text/html": [
       "<table>\n",
       "    <thead>\n",
       "        <tr>\n",
       "            <th>FR_percentage</th>\n",
       "        </tr>\n",
       "    </thead>\n",
       "    <tbody>\n",
       "        <tr>\n",
       "            <td>0.14</td>\n",
       "        </tr>\n",
       "    </tbody>\n",
       "</table>"
      ],
      "text/plain": [
       "[(0.14,)]"
      ]
     },
     "execution_count": 41,
     "metadata": {},
     "output_type": "execute_result"
    }
   ],
   "source": [
    "%%sql sqlite:///imdb.db\n",
    "SELECT COUNT(*) / 100.0 AS FR_percentage\n",
    "FROM (\n",
    "    SELECT id, countries\n",
    "    FROM media\n",
    "    WHERE (kind='Movie') AND (countries LIKE '%France%')\n",
    "    ORDER BY rating\n",
    "    LIMIT 100\n",
    ") AS subquery;"
   ]
  },
  {
   "cell_type": "code",
   "execution_count": 43,
   "id": "f414f6cc-63cc-48ce-bdd9-76efda835f91",
   "metadata": {},
   "outputs": [
    {
     "name": "stdout",
     "output_type": "stream",
     "text": [
      "(sqlite3.OperationalError) no such column: duration\n",
      "[SQL: SELECT\n",
      "    json_each.value AS genre,\n",
      "    AVG(duration) AS average_duration\n",
      "FROM\n",
      "    films,\n",
      "    json_each(json('[', replace(genres, ',', '\",\"'), ']'))\n",
      "GROUP BY\n",
      "    genre;]\n",
      "(Background on this error at: https://sqlalche.me/e/20/e3q8)\n"
     ]
    }
   ],
   "source": [
    "%%sql sqlite:///imdb.db\n"
   ]
  },
  {
   "cell_type": "code",
   "execution_count": null,
   "id": "a0b3a9dc-d361-42ae-8041-abeaf934b8bb",
   "metadata": {},
   "outputs": [],
   "source": []
  }
 ],
 "metadata": {
  "kernelspec": {
   "display_name": "Python 3 (ipykernel)",
   "language": "python",
   "name": "python3"
  },
  "language_info": {
   "codemirror_mode": {
    "name": "ipython",
    "version": 3
   },
   "file_extension": ".py",
   "mimetype": "text/x-python",
   "name": "python",
   "nbconvert_exporter": "python",
   "pygments_lexer": "ipython3",
   "version": "3.10.12"
  }
 },
 "nbformat": 4,
 "nbformat_minor": 5
}
